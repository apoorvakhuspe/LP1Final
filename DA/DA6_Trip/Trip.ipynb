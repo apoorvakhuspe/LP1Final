{
 "cells": [
  {
   "cell_type": "code",
   "execution_count": 2,
   "metadata": {},
   "outputs": [],
   "source": [
    "import numpy as np\n",
    "import pandas as pd\n",
    "import matplotlib.pyplot as plt\n",
    "\n",
    "import random as rnd\n",
    "import seaborn as sb\n",
    "\n",
    "from sklearn import model_selection\n",
    "from sklearn.preprocessing import LabelEncoder\n",
    "from pandas.plotting import scatter_matrix\n",
    "\n",
    "%matplotlib inline"
   ]
  },
  {
   "cell_type": "code",
   "execution_count": 3,
   "metadata": {},
   "outputs": [
    {
     "data": {
      "text/html": [
       "<div>\n",
       "<style scoped>\n",
       "    .dataframe tbody tr th:only-of-type {\n",
       "        vertical-align: middle;\n",
       "    }\n",
       "\n",
       "    .dataframe tbody tr th {\n",
       "        vertical-align: top;\n",
       "    }\n",
       "\n",
       "    .dataframe thead th {\n",
       "        text-align: right;\n",
       "    }\n",
       "</style>\n",
       "<table border=\"1\" class=\"dataframe\">\n",
       "  <thead>\n",
       "    <tr style=\"text-align: right;\">\n",
       "      <th></th>\n",
       "      <th>Duration</th>\n",
       "      <th>Start date</th>\n",
       "      <th>End date</th>\n",
       "      <th>Start station number</th>\n",
       "      <th>Start station</th>\n",
       "      <th>End station number</th>\n",
       "      <th>End station</th>\n",
       "      <th>Bike number</th>\n",
       "      <th>Member type</th>\n",
       "    </tr>\n",
       "  </thead>\n",
       "  <tbody>\n",
       "    <tr>\n",
       "      <th>0</th>\n",
       "      <td>1012</td>\n",
       "      <td>2010-09-20 11:27:04</td>\n",
       "      <td>2010-09-20 11:43:56</td>\n",
       "      <td>31208</td>\n",
       "      <td>M St &amp; New Jersey Ave SE</td>\n",
       "      <td>31108</td>\n",
       "      <td>4th &amp; M St SW</td>\n",
       "      <td>W00742</td>\n",
       "      <td>Member</td>\n",
       "    </tr>\n",
       "    <tr>\n",
       "      <th>1</th>\n",
       "      <td>61</td>\n",
       "      <td>2010-09-20 11:41:22</td>\n",
       "      <td>2010-09-20 11:42:23</td>\n",
       "      <td>31209</td>\n",
       "      <td>1st &amp; N St  SE</td>\n",
       "      <td>31209</td>\n",
       "      <td>NaN</td>\n",
       "      <td>W00032</td>\n",
       "      <td>Member</td>\n",
       "    </tr>\n",
       "    <tr>\n",
       "      <th>2</th>\n",
       "      <td>2690</td>\n",
       "      <td>2010-09-20 12:05:37</td>\n",
       "      <td>2010-09-20 12:50:27</td>\n",
       "      <td>31600</td>\n",
       "      <td>5th &amp; K St NW</td>\n",
       "      <td>31100</td>\n",
       "      <td>19th St &amp; Pennsylvania Ave NW</td>\n",
       "      <td>W00993</td>\n",
       "      <td>Member</td>\n",
       "    </tr>\n",
       "    <tr>\n",
       "      <th>3</th>\n",
       "      <td>1406</td>\n",
       "      <td>2010-09-20 12:06:05</td>\n",
       "      <td>2010-09-20 12:29:32</td>\n",
       "      <td>31600</td>\n",
       "      <td>5th &amp; K St NW</td>\n",
       "      <td>31602</td>\n",
       "      <td>Park Rd &amp; Holmead Pl NW</td>\n",
       "      <td>W00344</td>\n",
       "      <td>Member</td>\n",
       "    </tr>\n",
       "    <tr>\n",
       "      <th>4</th>\n",
       "      <td>1413</td>\n",
       "      <td>2010-09-20 12:10:43</td>\n",
       "      <td>2010-09-20 12:34:17</td>\n",
       "      <td>31100</td>\n",
       "      <td>19th St &amp; Pennsylvania Ave NW</td>\n",
       "      <td>31201</td>\n",
       "      <td>15th &amp; P St NW</td>\n",
       "      <td>W00883</td>\n",
       "      <td>Member</td>\n",
       "    </tr>\n",
       "  </tbody>\n",
       "</table>\n",
       "</div>"
      ],
      "text/plain": [
       "   Duration           Start date             End date  Start station number  \\\n",
       "0      1012  2010-09-20 11:27:04  2010-09-20 11:43:56                 31208   \n",
       "1        61  2010-09-20 11:41:22  2010-09-20 11:42:23                 31209   \n",
       "2      2690  2010-09-20 12:05:37  2010-09-20 12:50:27                 31600   \n",
       "3      1406  2010-09-20 12:06:05  2010-09-20 12:29:32                 31600   \n",
       "4      1413  2010-09-20 12:10:43  2010-09-20 12:34:17                 31100   \n",
       "\n",
       "                   Start station  End station number  \\\n",
       "0       M St & New Jersey Ave SE               31108   \n",
       "1                 1st & N St  SE               31209   \n",
       "2                  5th & K St NW               31100   \n",
       "3                  5th & K St NW               31602   \n",
       "4  19th St & Pennsylvania Ave NW               31201   \n",
       "\n",
       "                     End station Bike number Member type  \n",
       "0                  4th & M St SW      W00742      Member  \n",
       "1                            NaN      W00032      Member  \n",
       "2  19th St & Pennsylvania Ave NW      W00993      Member  \n",
       "3        Park Rd & Holmead Pl NW      W00344      Member  \n",
       "4                 15th & P St NW      W00883      Member  "
      ]
     },
     "execution_count": 3,
     "metadata": {},
     "output_type": "execute_result"
    }
   ],
   "source": [
    "dataset=pd.read_csv('store.csv')\n",
    "dataset.head()"
   ]
  },
  {
   "cell_type": "code",
   "execution_count": 4,
   "metadata": {},
   "outputs": [
    {
     "name": "stdout",
     "output_type": "stream",
     "text": [
      "Index(['Duration', 'Start date', 'End date', 'Start station number',\n",
      "       'Start station', 'End station number', 'End station', 'Bike number',\n",
      "       'Member type'],\n",
      "      dtype='object')\n"
     ]
    }
   ],
   "source": [
    "print(dataset.columns)"
   ]
  },
  {
   "cell_type": "code",
   "execution_count": 5,
   "metadata": {},
   "outputs": [
    {
     "name": "stdout",
     "output_type": "stream",
     "text": [
      "<bound method DataFrame.info of         Duration           Start date             End date  \\\n",
      "0           1012  2010-09-20 11:27:04  2010-09-20 11:43:56   \n",
      "1             61  2010-09-20 11:41:22  2010-09-20 11:42:23   \n",
      "2           2690  2010-09-20 12:05:37  2010-09-20 12:50:27   \n",
      "3           1406  2010-09-20 12:06:05  2010-09-20 12:29:32   \n",
      "4           1413  2010-09-20 12:10:43  2010-09-20 12:34:17   \n",
      "5            982  2010-09-20 12:14:27  2010-09-20 12:30:50   \n",
      "6            930  2010-09-20 12:15:26  2010-09-20 12:30:56   \n",
      "7           1659  2010-09-20 12:16:36  2010-09-20 12:44:15   \n",
      "8           2496  2010-09-20 12:18:38  2010-09-20 13:00:15   \n",
      "9           1487  2010-09-20 12:19:46  2010-09-20 12:44:34   \n",
      "10          1007  2010-09-20 12:21:52  2010-09-20 12:38:39   \n",
      "11          1159  2010-09-20 12:26:08  2010-09-20 12:45:27   \n",
      "12            88  2010-09-20 12:31:18  2010-09-20 12:32:46   \n",
      "13           202  2010-09-20 12:33:05  2010-09-20 12:36:28   \n",
      "14          1407  2010-09-20 12:39:24  2010-09-20 13:02:52   \n",
      "15           351  2010-09-20 12:39:35  2010-09-20 12:45:26   \n",
      "16           416  2010-09-20 12:40:40  2010-09-20 12:47:36   \n",
      "17          2988  2010-09-20 12:41:37  2010-09-20 13:31:25   \n",
      "18           636  2010-09-20 12:42:14  2010-09-20 12:52:50   \n",
      "19           509  2010-09-20 13:07:31  2010-09-20 13:16:01   \n",
      "20           638  2010-09-20 13:13:21  2010-09-20 13:23:59   \n",
      "21           763  2010-09-20 13:16:24  2010-09-20 13:29:08   \n",
      "22           387  2010-09-20 13:20:41  2010-09-20 13:27:09   \n",
      "23          1409  2010-09-20 13:22:51  2010-09-20 13:46:21   \n",
      "24          1254  2010-09-20 13:27:37  2010-09-20 13:48:32   \n",
      "25          1238  2010-09-20 13:28:15  2010-09-20 13:48:54   \n",
      "26           277  2010-09-20 13:30:21  2010-09-20 13:34:58   \n",
      "27          1532  2010-09-20 13:34:07  2010-09-20 13:59:39   \n",
      "28           759  2010-09-20 13:40:43  2010-09-20 13:53:23   \n",
      "29           433  2010-09-20 13:55:40  2010-09-20 14:02:53   \n",
      "...          ...                  ...                  ...   \n",
      "115567      1776  2010-12-31 22:14:27  2010-12-31 22:44:03   \n",
      "115568       552  2010-12-31 22:16:43  2010-12-31 22:25:56   \n",
      "115569       575  2010-12-31 22:19:52  2010-12-31 22:29:27   \n",
      "115570       146  2010-12-31 22:23:03  2010-12-31 22:25:29   \n",
      "115571      1304  2010-12-31 22:26:29  2010-12-31 22:48:14   \n",
      "115572       360  2010-12-31 22:33:52  2010-12-31 22:39:52   \n",
      "115573       320  2010-12-31 22:34:02  2010-12-31 22:39:23   \n",
      "115574       609  2010-12-31 22:36:45  2010-12-31 22:46:54   \n",
      "115575       462  2010-12-31 22:36:55  2010-12-31 22:44:38   \n",
      "115576       428  2010-12-31 22:37:59  2010-12-31 22:45:08   \n",
      "115577       482  2010-12-31 22:38:16  2010-12-31 22:46:18   \n",
      "115578       302  2010-12-31 22:42:18  2010-12-31 22:47:21   \n",
      "115579       288  2010-12-31 22:42:26  2010-12-31 22:47:15   \n",
      "115580      1224  2010-12-31 22:44:05  2010-12-31 23:04:29   \n",
      "115581       257  2010-12-31 22:45:33  2010-12-31 22:49:50   \n",
      "115582       485  2010-12-31 22:48:36  2010-12-31 22:56:41   \n",
      "115583       599  2010-12-31 22:52:14  2010-12-31 23:02:13   \n",
      "115584      1425  2010-12-31 22:54:07  2010-12-31 23:17:52   \n",
      "115585       640  2010-12-31 22:55:15  2010-12-31 23:05:56   \n",
      "115586      1016  2010-12-31 22:56:06  2010-12-31 23:13:03   \n",
      "115587       490  2010-12-31 22:57:48  2010-12-31 23:05:59   \n",
      "115588     16542  2010-12-31 23:16:16  2011-01-01 03:51:58   \n",
      "115589      2368  2010-12-31 23:17:31  2010-12-31 23:56:59   \n",
      "115590       596  2010-12-31 23:18:33  2010-12-31 23:28:29   \n",
      "115591       580  2010-12-31 23:18:34  2010-12-31 23:28:15   \n",
      "115592      2179  2010-12-31 23:20:32  2010-12-31 23:56:52   \n",
      "115593       953  2010-12-31 23:21:57  2010-12-31 23:37:50   \n",
      "115594       737  2010-12-31 23:27:28  2010-12-31 23:39:45   \n",
      "115595       514  2010-12-31 23:37:38  2010-12-31 23:46:12   \n",
      "115596     51962  2010-12-31 23:49:05  2011-01-01 14:15:08   \n",
      "\n",
      "        Start station number  \\\n",
      "0                      31208   \n",
      "1                      31209   \n",
      "2                      31600   \n",
      "3                      31600   \n",
      "4                      31100   \n",
      "5                      31109   \n",
      "6                      31109   \n",
      "7                      31111   \n",
      "8                      31600   \n",
      "9                      31703   \n",
      "10                     31500   \n",
      "11                     31603   \n",
      "12                     31602   \n",
      "13                     31105   \n",
      "14                     31101   \n",
      "15                     31103   \n",
      "16                     31105   \n",
      "17                     31206   \n",
      "18                     31002   \n",
      "19                     31205   \n",
      "20                     31201   \n",
      "21                     31602   \n",
      "22                     31009   \n",
      "23                     31600   \n",
      "24                     31002   \n",
      "25                     31002   \n",
      "26                     31106   \n",
      "27                     31200   \n",
      "28                     31104   \n",
      "29                     31011   \n",
      "...                      ...   \n",
      "115567                 31225   \n",
      "115568                 31619   \n",
      "115569                 31613   \n",
      "115570                 31619   \n",
      "115571                 31222   \n",
      "115572                 31107   \n",
      "115573                 31201   \n",
      "115574                 31400   \n",
      "115575                 31107   \n",
      "115576                 31622   \n",
      "115577                 31105   \n",
      "115578                 31613   \n",
      "115579                 31613   \n",
      "115580                 31109   \n",
      "115581                 31107   \n",
      "115582                 31503   \n",
      "115583                 31207   \n",
      "115584                 31101   \n",
      "115585                 31503   \n",
      "115586                 31214   \n",
      "115587                 31110   \n",
      "115588                 31102   \n",
      "115589                 31110   \n",
      "115590                 31107   \n",
      "115591                 31107   \n",
      "115592                 31110   \n",
      "115593                 31106   \n",
      "115594                 31602   \n",
      "115595                 31111   \n",
      "115596                 31111   \n",
      "\n",
      "                                            Start station  End station number  \\\n",
      "0                                M St & New Jersey Ave SE               31108   \n",
      "1                                          1st & N St  SE               31209   \n",
      "2                                           5th & K St NW               31100   \n",
      "3                                           5th & K St NW               31602   \n",
      "4                           19th St & Pennsylvania Ave NW               31201   \n",
      "5                                           7th & T St NW               31200   \n",
      "6                                           7th & T St NW               31105   \n",
      "7                                          10th & U St NW               31208   \n",
      "8                                           5th & K St NW               31601   \n",
      "9                                Minnesota Ave Metro/DOES               31603   \n",
      "10                                          4th & W St NE               31200   \n",
      "11                                          1st & M St NE               31603   \n",
      "12                                Park Rd & Holmead Pl NW               31602   \n",
      "13                                   14th & Harvard St NW               31103   \n",
      "14                                         14th & V St NW               31100   \n",
      "15                                   16th & Harvard St NW               31104   \n",
      "16                                   14th & Harvard St NW               31207   \n",
      "17                                     19th & E Street NW               31603   \n",
      "18                                      20th & Crystal Dr               31003   \n",
      "19                                         21st & I St NW               31200   \n",
      "20                                         15th & P St NW               31200   \n",
      "21                                Park Rd & Holmead Pl NW               31109   \n",
      "22                                      27th & Crystal Dr               31009   \n",
      "23                                          5th & K St NW               31100   \n",
      "24                                      20th & Crystal Dr               31012   \n",
      "25                                      20th & Crystal Dr               31012   \n",
      "26                               Calvert & Biltmore St NW               31104   \n",
      "27                   Massachusetts Ave & Dupont Circle NW               31600   \n",
      "28                            Adams Mill & Columbia Rd NW               31202   \n",
      "29                                      23rd & Crystal Dr               31011   \n",
      "...                                                   ...                 ...   \n",
      "115567                     C & O Canal & Wisconsin Ave NW               31200   \n",
      "115568          Lincoln Park / 13th & East Capitol St NE                31605   \n",
      "115569  Eastern Market Metro / Pennsylvania Ave & 7th ...               31611   \n",
      "115570          Lincoln Park / 13th & East Capitol St NE                31622   \n",
      "115571                          New York Ave & 15th St NW               31607   \n",
      "115572                            Lamont & Mt Pleasant NW               31102   \n",
      "115573                                     15th & P St NW               31229   \n",
      "115574                     Georgia & New Hampshire Ave NW               31101   \n",
      "115575                            Lamont & Mt Pleasant NW               31101   \n",
      "115576                                     13th & D St NE               31623   \n",
      "115577                               14th & Harvard St NW               31106   \n",
      "115578  Eastern Market Metro / Pennsylvania Ave & 7th ...               31619   \n",
      "115579  Eastern Market Metro / Pennsylvania Ave & 7th ...               31619   \n",
      "115580                                      7th & T St NW               31238   \n",
      "115581                            Lamont & Mt Pleasant NW               31104   \n",
      "115582                              Florida Ave & R St NW               31202   \n",
      "115583                     Georgia Ave and Fairmont St NW               31228   \n",
      "115584                                     14th & V St NW               31104   \n",
      "115585                              Florida Ave & R St NW               31229   \n",
      "115586                              17th & Corcoran St NW               31237   \n",
      "115587                           20th St & Florida Ave NW               31103   \n",
      "115588                                11th & Kenyon St NW               31402   \n",
      "115589                           20th St & Florida Ave NW               31623   \n",
      "115590                            Lamont & Mt Pleasant NW               31111   \n",
      "115591                            Lamont & Mt Pleasant NW               31111   \n",
      "115592                           20th St & Florida Ave NW               31623   \n",
      "115593                           Calvert & Biltmore St NW               31401   \n",
      "115594                            Park Rd & Holmead Pl NW               31401   \n",
      "115595                                     10th & U St NW               31202   \n",
      "115596                                     10th & U St NW               31111   \n",
      "\n",
      "                                      End station Bike number Member type  \n",
      "0                                   4th & M St SW      W00742      Member  \n",
      "1                                             NaN      W00032      Member  \n",
      "2                   19th St & Pennsylvania Ave NW      W00993      Member  \n",
      "3                         Park Rd & Holmead Pl NW      W00344      Member  \n",
      "4                                  15th & P St NW      W00883      Member  \n",
      "5            Massachusetts Ave & Dupont Circle NW      W00850      Member  \n",
      "6                            14th & Harvard St NW      W00804      Member  \n",
      "7                        M St & New Jersey Ave SE      W01084      Member  \n",
      "8                       19th & East Capitol St SE      W00812      Member  \n",
      "9                                   1st & M St NE      W00803      Member  \n",
      "10           Massachusetts Ave & Dupont Circle NW      W00256      Member  \n",
      "11                                  1st & M St NE      W01023      Member  \n",
      "12                        Park Rd & Holmead Pl NW      W00472      Member  \n",
      "13                           16th & Harvard St NW      W00685      Member  \n",
      "14                  19th St & Pennsylvania Ave NW      W00930      Member  \n",
      "15                    Adams Mill & Columbia Rd NW      W00685      Member  \n",
      "16                 Georgia Ave and Fairmont St NW      W00476      Member  \n",
      "17                                  1st & M St NE      W00955      Member  \n",
      "18                              15th & Crystal Dr      W01066      Member  \n",
      "19           Massachusetts Ave & Dupont Circle NW      W00824      Member  \n",
      "20           Massachusetts Ave & Dupont Circle NW      W00883      Member  \n",
      "21                                  7th & T St NW      W01029      Member  \n",
      "22                              27th & Crystal Dr      W00821      Member  \n",
      "23                  19th St & Pennsylvania Ave NW      W00833      Member  \n",
      "24                              26th & S Clark St      W01123      Member  \n",
      "25                              26th & S Clark St      W01034      Member  \n",
      "26                    Adams Mill & Columbia Rd NW      W00796      Member  \n",
      "27                                  5th & K St NW      W00883      Member  \n",
      "28                                 14th & R St NW      W00796      Member  \n",
      "29                              23rd & Crystal Dr      W00764      Member  \n",
      "...                                           ...         ...         ...  \n",
      "115567       Massachusetts Ave & Dupont Circle NW      W00748      Casual  \n",
      "115568                              3rd & D St SE      W00844      Member  \n",
      "115569                             13th & H St NE      W00254      Member  \n",
      "115570                             13th & D St NE      W00308      Member  \n",
      "115571                             14th & D St SE      W00194      Member  \n",
      "115572                        11th & Kenyon St NW      W00798      Member  \n",
      "115573                New Hampshire Ave & T St NW      W00735      Casual  \n",
      "115574                             14th & V St NW      W00579      Member  \n",
      "115575                             14th & V St NW      W00800      Member  \n",
      "115576            Columbus Circle / Union Station      W00308      Member  \n",
      "115577                   Calvert & Biltmore St NW      W00551      Member  \n",
      "115578  Lincoln Park / 13th & East Capitol St NE       W00356      Member  \n",
      "115579  Lincoln Park / 13th & East Capitol St NE       W00044      Member  \n",
      "115580                             14th & G St NW      W00470      Casual  \n",
      "115581                Adams Mill & Columbia Rd NW      W00556      Member  \n",
      "115582                             14th & R St NW      W00529      Member  \n",
      "115583                              8th & H St NW      W00968      Member  \n",
      "115584                Adams Mill & Columbia Rd NW      W00346      Member  \n",
      "115585                New Hampshire Ave & T St NW      W00176      Member  \n",
      "115586              25th St & Pennsylvania Ave NW      W00392      Member  \n",
      "115587                       16th & Harvard St NW      W00758      Member  \n",
      "115588  14th St Heights / 14th & Crittenden St NW      W00485      Casual  \n",
      "115589            Columbus Circle / Union Station      W00103      Casual  \n",
      "115590                             10th & U St NW      W00474      Member  \n",
      "115591                             10th & U St NW      W01119      Member  \n",
      "115592            Columbus Circle / Union Station      W00859      Casual  \n",
      "115593                     14th St & Spring Rd NW      W00914      Member  \n",
      "115594                     14th St & Spring Rd NW      W00973      Member  \n",
      "115595                             14th & R St NW      W01119      Member  \n",
      "115596                             10th & U St NW      W00771      Casual  \n",
      "\n",
      "[115597 rows x 9 columns]>\n"
     ]
    }
   ],
   "source": [
    "print(dataset.info)"
   ]
  },
  {
   "cell_type": "code",
   "execution_count": 6,
   "metadata": {
    "scrolled": true
   },
   "outputs": [
    {
     "data": {
      "text/plain": [
       "Duration                False\n",
       "Start date              False\n",
       "End date                False\n",
       "Start station number    False\n",
       "Start station           False\n",
       "End station number      False\n",
       "End station             False\n",
       "Bike number             False\n",
       "Member type             False\n",
       "dtype: bool"
      ]
     },
     "execution_count": 6,
     "metadata": {},
     "output_type": "execute_result"
    }
   ],
   "source": [
    "dataset.isnull().any()\n",
    "dataset=dataset.fillna(method='ffill')\n",
    "dataset.isnull().any()"
   ]
  },
  {
   "cell_type": "code",
   "execution_count": 7,
   "metadata": {},
   "outputs": [
    {
     "data": {
      "text/plain": [
       "(115597, 9)"
      ]
     },
     "execution_count": 7,
     "metadata": {},
     "output_type": "execute_result"
    }
   ],
   "source": [
    "dataset.shape"
   ]
  },
  {
   "cell_type": "code",
   "execution_count": 8,
   "metadata": {},
   "outputs": [
    {
     "data": {
      "text/html": [
       "<div>\n",
       "<style scoped>\n",
       "    .dataframe tbody tr th:only-of-type {\n",
       "        vertical-align: middle;\n",
       "    }\n",
       "\n",
       "    .dataframe tbody tr th {\n",
       "        vertical-align: top;\n",
       "    }\n",
       "\n",
       "    .dataframe thead th {\n",
       "        text-align: right;\n",
       "    }\n",
       "</style>\n",
       "<table border=\"1\" class=\"dataframe\">\n",
       "  <thead>\n",
       "    <tr style=\"text-align: right;\">\n",
       "      <th></th>\n",
       "      <th>Duration</th>\n",
       "      <th>Start date</th>\n",
       "      <th>End date</th>\n",
       "      <th>Start station number</th>\n",
       "      <th>Start station</th>\n",
       "      <th>End station number</th>\n",
       "      <th>End station</th>\n",
       "      <th>Bike number</th>\n",
       "      <th>Member type</th>\n",
       "    </tr>\n",
       "  </thead>\n",
       "  <tbody>\n",
       "    <tr>\n",
       "      <th>0</th>\n",
       "      <td>1012</td>\n",
       "      <td>2010-09-20 11:27:04</td>\n",
       "      <td>2010-09-20 11:43:56</td>\n",
       "      <td>31208</td>\n",
       "      <td>M St &amp; New Jersey Ave SE</td>\n",
       "      <td>31108</td>\n",
       "      <td>4th &amp; M St SW</td>\n",
       "      <td>W00742</td>\n",
       "      <td>Member</td>\n",
       "    </tr>\n",
       "    <tr>\n",
       "      <th>1</th>\n",
       "      <td>61</td>\n",
       "      <td>2010-09-20 11:41:22</td>\n",
       "      <td>2010-09-20 11:42:23</td>\n",
       "      <td>31209</td>\n",
       "      <td>1st &amp; N St  SE</td>\n",
       "      <td>31209</td>\n",
       "      <td>4th &amp; M St SW</td>\n",
       "      <td>W00032</td>\n",
       "      <td>Member</td>\n",
       "    </tr>\n",
       "    <tr>\n",
       "      <th>2</th>\n",
       "      <td>2690</td>\n",
       "      <td>2010-09-20 12:05:37</td>\n",
       "      <td>2010-09-20 12:50:27</td>\n",
       "      <td>31600</td>\n",
       "      <td>5th &amp; K St NW</td>\n",
       "      <td>31100</td>\n",
       "      <td>19th St &amp; Pennsylvania Ave NW</td>\n",
       "      <td>W00993</td>\n",
       "      <td>Member</td>\n",
       "    </tr>\n",
       "    <tr>\n",
       "      <th>3</th>\n",
       "      <td>1406</td>\n",
       "      <td>2010-09-20 12:06:05</td>\n",
       "      <td>2010-09-20 12:29:32</td>\n",
       "      <td>31600</td>\n",
       "      <td>5th &amp; K St NW</td>\n",
       "      <td>31602</td>\n",
       "      <td>Park Rd &amp; Holmead Pl NW</td>\n",
       "      <td>W00344</td>\n",
       "      <td>Member</td>\n",
       "    </tr>\n",
       "    <tr>\n",
       "      <th>4</th>\n",
       "      <td>1413</td>\n",
       "      <td>2010-09-20 12:10:43</td>\n",
       "      <td>2010-09-20 12:34:17</td>\n",
       "      <td>31100</td>\n",
       "      <td>19th St &amp; Pennsylvania Ave NW</td>\n",
       "      <td>31201</td>\n",
       "      <td>15th &amp; P St NW</td>\n",
       "      <td>W00883</td>\n",
       "      <td>Member</td>\n",
       "    </tr>\n",
       "  </tbody>\n",
       "</table>\n",
       "</div>"
      ],
      "text/plain": [
       "   Duration           Start date             End date  Start station number  \\\n",
       "0      1012  2010-09-20 11:27:04  2010-09-20 11:43:56                 31208   \n",
       "1        61  2010-09-20 11:41:22  2010-09-20 11:42:23                 31209   \n",
       "2      2690  2010-09-20 12:05:37  2010-09-20 12:50:27                 31600   \n",
       "3      1406  2010-09-20 12:06:05  2010-09-20 12:29:32                 31600   \n",
       "4      1413  2010-09-20 12:10:43  2010-09-20 12:34:17                 31100   \n",
       "\n",
       "                   Start station  End station number  \\\n",
       "0       M St & New Jersey Ave SE               31108   \n",
       "1                 1st & N St  SE               31209   \n",
       "2                  5th & K St NW               31100   \n",
       "3                  5th & K St NW               31602   \n",
       "4  19th St & Pennsylvania Ave NW               31201   \n",
       "\n",
       "                     End station Bike number Member type  \n",
       "0                  4th & M St SW      W00742      Member  \n",
       "1                  4th & M St SW      W00032      Member  \n",
       "2  19th St & Pennsylvania Ave NW      W00993      Member  \n",
       "3        Park Rd & Holmead Pl NW      W00344      Member  \n",
       "4                 15th & P St NW      W00883      Member  "
      ]
     },
     "execution_count": 8,
     "metadata": {},
     "output_type": "execute_result"
    }
   ],
   "source": [
    "dataset.head()"
   ]
  },
  {
   "cell_type": "code",
   "execution_count": 9,
   "metadata": {},
   "outputs": [],
   "source": [
    "dataset=dataset.drop('Start date',axis=1)\n",
    "dataset=dataset.drop('End date',axis=1)\n",
    "dataset=dataset.drop('Start station',axis=1)\n",
    "dataset=dataset.drop('End station',axis=1)"
   ]
  },
  {
   "cell_type": "code",
   "execution_count": 10,
   "metadata": {},
   "outputs": [
    {
     "data": {
      "text/html": [
       "<div>\n",
       "<style scoped>\n",
       "    .dataframe tbody tr th:only-of-type {\n",
       "        vertical-align: middle;\n",
       "    }\n",
       "\n",
       "    .dataframe tbody tr th {\n",
       "        vertical-align: top;\n",
       "    }\n",
       "\n",
       "    .dataframe thead th {\n",
       "        text-align: right;\n",
       "    }\n",
       "</style>\n",
       "<table border=\"1\" class=\"dataframe\">\n",
       "  <thead>\n",
       "    <tr style=\"text-align: right;\">\n",
       "      <th></th>\n",
       "      <th>Duration</th>\n",
       "      <th>Start station number</th>\n",
       "      <th>End station number</th>\n",
       "      <th>Bike number</th>\n",
       "      <th>Member type</th>\n",
       "    </tr>\n",
       "  </thead>\n",
       "  <tbody>\n",
       "    <tr>\n",
       "      <th>0</th>\n",
       "      <td>1012</td>\n",
       "      <td>31208</td>\n",
       "      <td>31108</td>\n",
       "      <td>W00742</td>\n",
       "      <td>Member</td>\n",
       "    </tr>\n",
       "    <tr>\n",
       "      <th>1</th>\n",
       "      <td>61</td>\n",
       "      <td>31209</td>\n",
       "      <td>31209</td>\n",
       "      <td>W00032</td>\n",
       "      <td>Member</td>\n",
       "    </tr>\n",
       "    <tr>\n",
       "      <th>2</th>\n",
       "      <td>2690</td>\n",
       "      <td>31600</td>\n",
       "      <td>31100</td>\n",
       "      <td>W00993</td>\n",
       "      <td>Member</td>\n",
       "    </tr>\n",
       "    <tr>\n",
       "      <th>3</th>\n",
       "      <td>1406</td>\n",
       "      <td>31600</td>\n",
       "      <td>31602</td>\n",
       "      <td>W00344</td>\n",
       "      <td>Member</td>\n",
       "    </tr>\n",
       "    <tr>\n",
       "      <th>4</th>\n",
       "      <td>1413</td>\n",
       "      <td>31100</td>\n",
       "      <td>31201</td>\n",
       "      <td>W00883</td>\n",
       "      <td>Member</td>\n",
       "    </tr>\n",
       "  </tbody>\n",
       "</table>\n",
       "</div>"
      ],
      "text/plain": [
       "   Duration  Start station number  End station number Bike number Member type\n",
       "0      1012                 31208               31108      W00742      Member\n",
       "1        61                 31209               31209      W00032      Member\n",
       "2      2690                 31600               31100      W00993      Member\n",
       "3      1406                 31600               31602      W00344      Member\n",
       "4      1413                 31100               31201      W00883      Member"
      ]
     },
     "execution_count": 10,
     "metadata": {},
     "output_type": "execute_result"
    }
   ],
   "source": [
    "dataset.head()"
   ]
  },
  {
   "cell_type": "code",
   "execution_count": 11,
   "metadata": {},
   "outputs": [],
   "source": [
    "#Label encoder\n",
    "from sklearn.preprocessing import LabelEncoder\n",
    "le=LabelEncoder()\n",
    "le.fit(dataset['Bike number'])\n",
    "dataset['Bike number']=le.transform(dataset['Bike number'])"
   ]
  },
  {
   "cell_type": "code",
   "execution_count": 12,
   "metadata": {},
   "outputs": [
    {
     "data": {
      "text/html": [
       "<div>\n",
       "<style scoped>\n",
       "    .dataframe tbody tr th:only-of-type {\n",
       "        vertical-align: middle;\n",
       "    }\n",
       "\n",
       "    .dataframe tbody tr th {\n",
       "        vertical-align: top;\n",
       "    }\n",
       "\n",
       "    .dataframe thead th {\n",
       "        text-align: right;\n",
       "    }\n",
       "</style>\n",
       "<table border=\"1\" class=\"dataframe\">\n",
       "  <thead>\n",
       "    <tr style=\"text-align: right;\">\n",
       "      <th></th>\n",
       "      <th>Duration</th>\n",
       "      <th>Start station number</th>\n",
       "      <th>End station number</th>\n",
       "      <th>Bike number</th>\n",
       "      <th>Member type</th>\n",
       "    </tr>\n",
       "  </thead>\n",
       "  <tbody>\n",
       "    <tr>\n",
       "      <th>0</th>\n",
       "      <td>1012</td>\n",
       "      <td>31208</td>\n",
       "      <td>31108</td>\n",
       "      <td>614</td>\n",
       "      <td>Member</td>\n",
       "    </tr>\n",
       "    <tr>\n",
       "      <th>1</th>\n",
       "      <td>61</td>\n",
       "      <td>31209</td>\n",
       "      <td>31209</td>\n",
       "      <td>41</td>\n",
       "      <td>Member</td>\n",
       "    </tr>\n",
       "    <tr>\n",
       "      <th>2</th>\n",
       "      <td>2690</td>\n",
       "      <td>31600</td>\n",
       "      <td>31100</td>\n",
       "      <td>836</td>\n",
       "      <td>Member</td>\n",
       "    </tr>\n",
       "    <tr>\n",
       "      <th>3</th>\n",
       "      <td>1406</td>\n",
       "      <td>31600</td>\n",
       "      <td>31602</td>\n",
       "      <td>282</td>\n",
       "      <td>Member</td>\n",
       "    </tr>\n",
       "    <tr>\n",
       "      <th>4</th>\n",
       "      <td>1413</td>\n",
       "      <td>31100</td>\n",
       "      <td>31201</td>\n",
       "      <td>734</td>\n",
       "      <td>Member</td>\n",
       "    </tr>\n",
       "  </tbody>\n",
       "</table>\n",
       "</div>"
      ],
      "text/plain": [
       "   Duration  Start station number  End station number  Bike number Member type\n",
       "0      1012                 31208               31108          614      Member\n",
       "1        61                 31209               31209           41      Member\n",
       "2      2690                 31600               31100          836      Member\n",
       "3      1406                 31600               31602          282      Member\n",
       "4      1413                 31100               31201          734      Member"
      ]
     },
     "execution_count": 12,
     "metadata": {},
     "output_type": "execute_result"
    }
   ],
   "source": [
    "dataset.head()"
   ]
  },
  {
   "cell_type": "code",
   "execution_count": 13,
   "metadata": {},
   "outputs": [],
   "source": [
    "le=LabelEncoder()\n",
    "le.fit(dataset['Member type'])\n",
    "dataset['Member type']=le.transform(dataset['Member type'])"
   ]
  },
  {
   "cell_type": "code",
   "execution_count": 14,
   "metadata": {},
   "outputs": [
    {
     "data": {
      "text/html": [
       "<div>\n",
       "<style scoped>\n",
       "    .dataframe tbody tr th:only-of-type {\n",
       "        vertical-align: middle;\n",
       "    }\n",
       "\n",
       "    .dataframe tbody tr th {\n",
       "        vertical-align: top;\n",
       "    }\n",
       "\n",
       "    .dataframe thead th {\n",
       "        text-align: right;\n",
       "    }\n",
       "</style>\n",
       "<table border=\"1\" class=\"dataframe\">\n",
       "  <thead>\n",
       "    <tr style=\"text-align: right;\">\n",
       "      <th></th>\n",
       "      <th>Duration</th>\n",
       "      <th>Start station number</th>\n",
       "      <th>End station number</th>\n",
       "      <th>Bike number</th>\n",
       "      <th>Member type</th>\n",
       "    </tr>\n",
       "  </thead>\n",
       "  <tbody>\n",
       "    <tr>\n",
       "      <th>0</th>\n",
       "      <td>1012</td>\n",
       "      <td>31208</td>\n",
       "      <td>31108</td>\n",
       "      <td>614</td>\n",
       "      <td>1</td>\n",
       "    </tr>\n",
       "    <tr>\n",
       "      <th>1</th>\n",
       "      <td>61</td>\n",
       "      <td>31209</td>\n",
       "      <td>31209</td>\n",
       "      <td>41</td>\n",
       "      <td>1</td>\n",
       "    </tr>\n",
       "    <tr>\n",
       "      <th>2</th>\n",
       "      <td>2690</td>\n",
       "      <td>31600</td>\n",
       "      <td>31100</td>\n",
       "      <td>836</td>\n",
       "      <td>1</td>\n",
       "    </tr>\n",
       "    <tr>\n",
       "      <th>3</th>\n",
       "      <td>1406</td>\n",
       "      <td>31600</td>\n",
       "      <td>31602</td>\n",
       "      <td>282</td>\n",
       "      <td>1</td>\n",
       "    </tr>\n",
       "    <tr>\n",
       "      <th>4</th>\n",
       "      <td>1413</td>\n",
       "      <td>31100</td>\n",
       "      <td>31201</td>\n",
       "      <td>734</td>\n",
       "      <td>1</td>\n",
       "    </tr>\n",
       "  </tbody>\n",
       "</table>\n",
       "</div>"
      ],
      "text/plain": [
       "   Duration  Start station number  End station number  Bike number  \\\n",
       "0      1012                 31208               31108          614   \n",
       "1        61                 31209               31209           41   \n",
       "2      2690                 31600               31100          836   \n",
       "3      1406                 31600               31602          282   \n",
       "4      1413                 31100               31201          734   \n",
       "\n",
       "   Member type  \n",
       "0            1  \n",
       "1            1  \n",
       "2            1  \n",
       "3            1  \n",
       "4            1  "
      ]
     },
     "execution_count": 14,
     "metadata": {},
     "output_type": "execute_result"
    }
   ],
   "source": [
    "dataset.head()"
   ]
  },
  {
   "cell_type": "code",
   "execution_count": 15,
   "metadata": {},
   "outputs": [
    {
     "name": "stdout",
     "output_type": "stream",
     "text": [
      "[[ 1012 31208 31108   614]\n",
      " [   61 31209 31209    41]\n",
      " [ 2690 31600 31100   836]\n",
      " ...\n",
      " [  737 31602 31401   819]\n",
      " [  514 31111 31202   946]\n",
      " [51962 31111 31111   636]]\n",
      "[1 1 1 ... 1 1 0]\n"
     ]
    }
   ],
   "source": [
    "#Find dependent and independent variables\n",
    "\n",
    "X=dataset.iloc[:,:-1].values\n",
    "Y=dataset.iloc[:,-1].values\n",
    "print(X)\n",
    "print(Y)"
   ]
  },
  {
   "cell_type": "code",
   "execution_count": 16,
   "metadata": {},
   "outputs": [],
   "source": [
    "from sklearn.preprocessing import StandardScaler\n",
    "sc_x=StandardScaler()\n",
    "X=sc_x.fit_transform(X)"
   ]
  },
  {
   "cell_type": "code",
   "execution_count": 19,
   "metadata": {},
   "outputs": [],
   "source": [
    "from sklearn.model_selection import train_test_split\n",
    "x_train,x_test,y_train,y_test=train_test_split(X,Y,test_size=0.25,random_state=0)"
   ]
  },
  {
   "cell_type": "code",
   "execution_count": 20,
   "metadata": {},
   "outputs": [
    {
     "data": {
      "text/html": [
       "<div>\n",
       "<style scoped>\n",
       "    .dataframe tbody tr th:only-of-type {\n",
       "        vertical-align: middle;\n",
       "    }\n",
       "\n",
       "    .dataframe tbody tr th {\n",
       "        vertical-align: top;\n",
       "    }\n",
       "\n",
       "    .dataframe thead th {\n",
       "        text-align: right;\n",
       "    }\n",
       "</style>\n",
       "<table border=\"1\" class=\"dataframe\">\n",
       "  <thead>\n",
       "    <tr style=\"text-align: right;\">\n",
       "      <th></th>\n",
       "      <th>0</th>\n",
       "      <th>1</th>\n",
       "      <th>2</th>\n",
       "      <th>3</th>\n",
       "    </tr>\n",
       "  </thead>\n",
       "  <tbody>\n",
       "    <tr>\n",
       "      <th>0</th>\n",
       "      <td>0.522715</td>\n",
       "      <td>-1.408055</td>\n",
       "      <td>1.890279</td>\n",
       "      <td>-1.366274</td>\n",
       "    </tr>\n",
       "    <tr>\n",
       "      <th>1</th>\n",
       "      <td>-0.316593</td>\n",
       "      <td>-1.413384</td>\n",
       "      <td>-1.369770</td>\n",
       "      <td>-1.479103</td>\n",
       "    </tr>\n",
       "    <tr>\n",
       "      <th>2</th>\n",
       "      <td>-0.146742</td>\n",
       "      <td>-0.283587</td>\n",
       "      <td>-0.897143</td>\n",
       "      <td>1.079556</td>\n",
       "    </tr>\n",
       "    <tr>\n",
       "      <th>3</th>\n",
       "      <td>0.066345</td>\n",
       "      <td>0.180057</td>\n",
       "      <td>-0.365438</td>\n",
       "      <td>0.391666</td>\n",
       "    </tr>\n",
       "    <tr>\n",
       "      <th>4</th>\n",
       "      <td>-0.079144</td>\n",
       "      <td>-0.203648</td>\n",
       "      <td>1.831201</td>\n",
       "      <td>0.584567</td>\n",
       "    </tr>\n",
       "  </tbody>\n",
       "</table>\n",
       "</div>"
      ],
      "text/plain": [
       "          0         1         2         3\n",
       "0  0.522715 -1.408055  1.890279 -1.366274\n",
       "1 -0.316593 -1.413384 -1.369770 -1.479103\n",
       "2 -0.146742 -0.283587 -0.897143  1.079556\n",
       "3  0.066345  0.180057 -0.365438  0.391666\n",
       "4 -0.079144 -0.203648  1.831201  0.584567"
      ]
     },
     "execution_count": 20,
     "metadata": {},
     "output_type": "execute_result"
    }
   ],
   "source": [
    "pd.DataFrame(x_train).head()"
   ]
  },
  {
   "cell_type": "code",
   "execution_count": 21,
   "metadata": {},
   "outputs": [
    {
     "data": {
      "text/plain": [
       "GaussianNB(priors=None, var_smoothing=1e-09)"
      ]
     },
     "execution_count": 21,
     "metadata": {},
     "output_type": "execute_result"
    }
   ],
   "source": [
    "#Fitting Naive Bayes classifier into training set\n",
    "\n",
    "from sklearn.naive_bayes import GaussianNB\n",
    "classifier=GaussianNB()\n",
    "classifier.fit(x_train,y_train)"
   ]
  },
  {
   "cell_type": "code",
   "execution_count": 29,
   "metadata": {},
   "outputs": [],
   "source": [
    "predicted=classifier.predict(x_test)"
   ]
  },
  {
   "cell_type": "code",
   "execution_count": 36,
   "metadata": {
    "scrolled": true
   },
   "outputs": [
    {
     "data": {
      "text/plain": [
       "1"
      ]
     },
     "execution_count": 36,
     "metadata": {},
     "output_type": "execute_result"
    }
   ],
   "source": [
    "predicted[0]"
   ]
  },
  {
   "cell_type": "code",
   "execution_count": null,
   "metadata": {},
   "outputs": [],
   "source": [
    "predicted[1]"
   ]
  },
  {
   "cell_type": "code",
   "execution_count": null,
   "metadata": {},
   "outputs": [],
   "source": [
    "predicted[0]"
   ]
  },
  {
   "cell_type": "code",
   "execution_count": null,
   "metadata": {},
   "outputs": [],
   "source": [
    "predicted[0]"
   ]
  },
  {
   "cell_type": "code",
   "execution_count": null,
   "metadata": {},
   "outputs": [],
   "source": [
    "predicted[0]"
   ]
  },
  {
   "cell_type": "code",
   "execution_count": null,
   "metadata": {},
   "outputs": [],
   "source": [
    "predicted[0]"
   ]
  },
  {
   "cell_type": "code",
   "execution_count": null,
   "metadata": {},
   "outputs": [],
   "source": [
    "predicted[0]"
   ]
  },
  {
   "cell_type": "code",
   "execution_count": 31,
   "metadata": {},
   "outputs": [
    {
     "name": "stdout",
     "output_type": "stream",
     "text": [
      "[[ 1497  4592]\n",
      " [  131 22680]]\n"
     ]
    }
   ],
   "source": [
    "#Confusion matrix\n",
    "\n",
    "from sklearn.metrics import confusion_matrix\n",
    "cm=confusion_matrix(y_test,predicted)\n",
    "print(cm)"
   ]
  },
  {
   "cell_type": "code",
   "execution_count": 32,
   "metadata": {},
   "outputs": [
    {
     "name": "stdout",
     "output_type": "stream",
     "text": [
      "0.8365743944636678\n"
     ]
    }
   ],
   "source": [
    "#Accuracy\n",
    "\n",
    "accuracy=(cm[0][0]+cm[1][1])/(cm[0][0]+cm[0][1]+cm[1][0]+cm[1][1])\n",
    "print(accuracy)"
   ]
  },
  {
   "cell_type": "code",
   "execution_count": 33,
   "metadata": {},
   "outputs": [],
   "source": [
    "import seaborn as sn"
   ]
  },
  {
   "cell_type": "code",
   "execution_count": 34,
   "metadata": {},
   "outputs": [
    {
     "data": {
      "text/plain": [
       "<matplotlib.axes._subplots.AxesSubplot at 0x7faf2569e4e0>"
      ]
     },
     "execution_count": 34,
     "metadata": {},
     "output_type": "execute_result"
    },
    {
     "data": {
      "image/png": "[encoded data removed]",
      "text/plain": [
       "<Figure size 432x288 with 2 Axes>"
      ]
     },
     "metadata": {
      "needs_background": "light"
     },
     "output_type": "display_data"
    }
   ],
   "source": [
    "sn.heatmap(cm)"
   ]
  },
  {
   "cell_type": "code",
   "execution_count": null,
   "metadata": {},
   "outputs": [],
   "source": []
  }
 ],
 "metadata": {
  "kernelspec": {
   "display_name": "Python 3",
   "language": "python",
   "name": "python3"
  },
  "language_info": {
   "codemirror_mode": {
    "name": "ipython",
    "version": 3
   },
   "file_extension": ".py",
   "mimetype": "text/x-python",
   "name": "python",
   "nbconvert_exporter": "python",
   "pygments_lexer": "ipython3",
   "version": "3.7.3"
  }
 },
 "nbformat": 4,
 "nbformat_minor": 2
}
