{
 "cells": [
  {
   "cell_type": "code",
   "execution_count": 1,
   "metadata": {
    "colab": {
     "base_uri": "https://localhost:8080/",
     "height": 207
    },
    "colab_type": "code",
    "executionInfo": {
     "elapsed": 14729,
     "status": "ok",
     "timestamp": 1571748730149,
     "user": {
      "displayName": "apoorva khuspe",
      "photoUrl": "https://lh3.googleusercontent.com/a-/AAuE7mBuKTbH-Vl5HPsQ5isEBPrsZFPqjbRi-XL9UPM0O0U=s64",
      "userId": "04535543276114811921"
     },
     "user_tz": -330
    },
    "id": "JYnYT26n9zdE",
    "outputId": "10c8dcc0-ddbd-4c1d-e086-a9f03aff0411"
   },
   "outputs": [
    {
     "name": "stdout",
     "output_type": "stream",
     "text": [
      "Collecting git+git://github.com/andreinechaev/nvcc4jupyter.git\n",
      "  Cloning git://github.com/andreinechaev/nvcc4jupyter.git to /tmp/pip-req-build-9pi9lag0\n",
      "Building wheels for collected packages: NVCCPlugin\n",
      "  Building wheel for NVCCPlugin (setup.py) ... \u001b[?25ldone\n",
      "\u001b[?25h  Stored in directory: /tmp/pip-ephem-wheel-cache-p4715efd/wheels/10/c2/05/ca241da37bff77d60d31a9174f988109c61ba989e4d4650516\n",
      "Successfully built NVCCPlugin\n",
      "Installing collected packages: NVCCPlugin\n",
      "Successfully installed NVCCPlugin-0.0.2\n"
     ]
    }
   ],
   "source": [
    "!pip install git+git://github.com/andreinechaev/nvcc4jupyter.git\n"
   ]
  },
  {
   "cell_type": "code",
   "execution_count": 2,
   "metadata": {
    "colab": {
     "base_uri": "https://localhost:8080/",
     "height": 51
    },
    "colab_type": "code",
    "executionInfo": {
     "elapsed": 1647,
     "status": "ok",
     "timestamp": 1571748736800,
     "user": {
      "displayName": "apoorva khuspe",
      "photoUrl": "https://lh3.googleusercontent.com/a-/AAuE7mBuKTbH-Vl5HPsQ5isEBPrsZFPqjbRi-XL9UPM0O0U=s64",
      "userId": "04535543276114811921"
     },
     "user_tz": -330
    },
    "id": "cpX-tBrQ-DA1",
    "outputId": "c81ed706-b32b-42b5-e2b8-8755b8efc7dd"
   },
   "outputs": [
    {
     "name": "stdout",
     "output_type": "stream",
     "text": [
      "created output directory at /home/apoorva/Downloads/src\n",
      "Out bin /home/apoorva/Downloads/result.out\n"
     ]
    }
   ],
   "source": [
    "#load extension into environment\n",
    "%load_ext nvcc_plugin\n"
   ]
  },
  {
   "cell_type": "code",
   "execution_count": 3,
   "metadata": {
    "colab": {
     "base_uri": "https://localhost:8080/",
     "height": 54
    },
    "colab_type": "code",
    "executionInfo": {
     "elapsed": 2017,
     "status": "ok",
     "timestamp": 1571748791278,
     "user": {
      "displayName": "apoorva khuspe",
      "photoUrl": "https://lh3.googleusercontent.com/a-/AAuE7mBuKTbH-Vl5HPsQ5isEBPrsZFPqjbRi-XL9UPM0O0U=s64",
      "userId": "04535543276114811921"
     },
     "user_tz": -330
    },
    "id": "7EQ3_l8-upY7",
    "outputId": "3f29bcf9-1698-4f58-9401-39cb191f4e94"
   },
   "outputs": [
    {
     "ename": "FileNotFoundError",
     "evalue": "[Errno 2] No such file or directory: '/usr/local/cuda/bin/nvcc': '/usr/local/cuda/bin/nvcc'",
     "output_type": "error",
     "traceback": [
      "\u001b[0;31m---------------------------------------------------------------------------\u001b[0m",
      "\u001b[0;31mFileNotFoundError\u001b[0m                         Traceback (most recent call last)",
      "\u001b[0;32m<ipython-input-3-922698565a70>\u001b[0m in \u001b[0;36m<module>\u001b[0;34m\u001b[0m\n\u001b[0;32m----> 1\u001b[0;31m \u001b[0mget_ipython\u001b[0m\u001b[0;34m(\u001b[0m\u001b[0;34m)\u001b[0m\u001b[0;34m.\u001b[0m\u001b[0mrun_cell_magic\u001b[0m\u001b[0;34m(\u001b[0m\u001b[0;34m'cu'\u001b[0m\u001b[0;34m,\u001b[0m \u001b[0;34m''\u001b[0m\u001b[0;34m,\u001b[0m \u001b[0;34m'\\n//Assignment 1\\n#include \"cuda_runtime.h\"\\n#include \"device_launch_parameters.h\"\\n#include<stdio.h>\\n#include<stdlib.h>\\n#include<time.h>\\n#include<math.h>\\n\\nvoid init_array(float *a, const int N);\\n__global__\\nvoid sum(float* input)\\n{\\n const int tid = threadIdx.x;\\n int no_threads = blockDim.x;\\n\\n int step_size =1;\\n\\n while(no_threads>0)\\n {\\n   if(tid<no_threads)\\n   {\\n      const int fst = tid*step_size*2;\\n      const int snd = fst + step_size;\\n      input[fst] += input[snd];\\n   }\\n   step_size <<=1;\\n   no_threads >>= 1;\\n\\n }\\n}\\n\\n__global__\\nvoid min(float* input)\\n{\\n const int tid = threadIdx.x;\\n int no_threads = blockDim.x;\\n\\n int step_size =1;\\n\\n while(no_threads>0)\\n {\\n   if(tid<no_threads)\\n   {\\n      const int fst = tid*step_size*2;\\n      const int snd = fst + step_size;\\n      if(input[snd]<input[fst])\\n         input[fst]  = input[snd];\\n   }\\n   step_size <<=1;\\n   no_threads >>= 1;\\n\\n }\\n\\n\\n}\\n\\n__global__\\nvoid max(float* input)\\n{\\n const int tid = threadIdx.x;\\n int no_threads = blockDim.x;\\n\\n int step_size =1;\\n\\n while(no_threads>0)\\n {\\n   if(tid<no_threads)\\n   {\\n      const int fst = tid*step_size*2;\\n      const int snd = fst + step_size;\\n      if(input[snd]>input[fst])\\n         input[fst]  = input[snd];\\n   }\\n   step_size <<=1;\\n   no_threads >>= 1;\\n\\n }\\n\\n\\n}\\n\\n\\n__global__\\nvoid std_(float* input,float avg)\\n{\\n const int tid = threadIdx.x;\\n int no_threads = blockDim.x;\\n\\n int step_size =1;\\n\\n while(no_threads>0)\\n {\\n   if(tid<no_threads)\\n   {\\n      const int fst = tid*step_size*2;\\n      const int snd = fst + step_size;\\n      input[fst] = (input[fst]-avg)*(input[fst]-avg);\\n      input[snd] = (input[snd]-avg)*(input[snd]-avg);\\n      input[fst] += input[snd];\\n   }\\n   step_size <<=1;\\n   no_threads >>= 1;\\n\\n }\\n\\n\\n}\\n\\n\\nint main()\\n{\\n\\n srand(time(NULL));\\n const int N = 4;\\n const int size = N*sizeof(float);\\n float *a;\\n float *d_a,*d_b;\\n float result, avg;\\n double time_taken;\\n    \\n a = (float*)malloc(sizeof(float)*N);\\n //initialising the array\\n init_array(a,N);\\n\\n //printing the array\\n for(int i=0;i<N;i++)\\n   printf(\"%f   \",a[i]);\\n\\n cudaMalloc(&d_a,size);\\n cudaMemcpy(d_a,a,size,cudaMemcpyHostToDevice);\\n\\n cudaMalloc(&d_b,size);\\n cudaMemcpy(d_b,a,size,cudaMemcpyHostToDevice);\\n \\n //----------------Sum--------------------------\\n clock_t t;\\n t = clock();\\n sum<<<1,N/2>>>(d_a);\\n cudaMemcpy(&result,d_a,sizeof(float),cudaMemcpyDeviceToHost);\\n t = clock() - t;\\n time_taken = ((double)t)/CLOCKS_PER_SEC; //in seconds\\n printf(\" Time taken by sum :%f\",time_taken);\\n printf(\"   Sum:  %f\",result);\\n    \\n //----------------Min--------------------------\\n t = clock();\\n min<<<1,N/2>>>(d_a);\\n cudaMemcpy(&result,d_a,sizeof(float),cudaMemcpyDeviceToHost);\\n t = clock() - t;\\n time_taken = ((double)t)/CLOCKS_PER_SEC; //in seconds\\n printf(\" Time taken by min :%f\",time_taken);\\n printf(\"   Min:  %f\",result);\\n      \\n //----------------Max--------------------------\\n t = clock();\\n max<<<1,N/2>>>(d_a); \\n t = clock() - t;\\n time_taken = ((double)t)/CLOCKS_PER_SEC; //in seconds\\n printf(\" Time taken by max :%f\",time_taken);\\n cudaMemcpy(&result,d_a,sizeof(float),cudaMemcpyDeviceToHost);\\n printf(\"   Max:  %f\",result);\\n    \\n //----------------Average--------------------\\n t = clock();\\n sum<<<1,N/2>>>(d_a);\\n cudaMemcpy(&result,d_a,sizeof(float),cudaMemcpyDeviceToHost);\\n avg = result/N;\\n t = clock() - t;\\n time_taken = ((double)t)/CLOCKS_PER_SEC; //in seconds\\n printf(\" Time taken by avg :%f\",time_taken);\\n printf(\"   Avg:  %f\",avg);\\n \\n    \\n //----------------Standard deviation-------------\\n  t = clock();\\n std_<<<1,N/2>>>(d_a,avg);\\n float std;\\n cudaMemcpy(&std,d_b,sizeof(float),cudaMemcpyDeviceToHost);\\n std =std/N;\\n std = sqrt(std);\\n t = clock() - t;\\n time_taken = ((double)t)/CLOCKS_PER_SEC; //in seconds\\n printf(\" Time taken by std :%f\",time_taken);\\n printf(\" STD IS:%f\",std);\\n\\n \\n cudaFree(d_a);\\n cudaFree(d_b);\\n delete[] a;\\n\\n return 0;\\n}\\n\\n\\nvoid init_array(float*a,const int N)\\n{\\n  for(int i=0;i<N;i++)\\n     a[i] = rand()%N + 1;\\n}\\n\\n'\u001b[0m\u001b[0;34m)\u001b[0m\u001b[0;34m\u001b[0m\u001b[0;34m\u001b[0m\u001b[0m\n\u001b[0m",
      "\u001b[0;32m~/anaconda3/lib/python3.7/site-packages/IPython/core/interactiveshell.py\u001b[0m in \u001b[0;36mrun_cell_magic\u001b[0;34m(self, magic_name, line, cell)\u001b[0m\n\u001b[1;32m   2350\u001b[0m             \u001b[0;32mwith\u001b[0m \u001b[0mself\u001b[0m\u001b[0;34m.\u001b[0m\u001b[0mbuiltin_trap\u001b[0m\u001b[0;34m:\u001b[0m\u001b[0;34m\u001b[0m\u001b[0;34m\u001b[0m\u001b[0m\n\u001b[1;32m   2351\u001b[0m                 \u001b[0margs\u001b[0m \u001b[0;34m=\u001b[0m \u001b[0;34m(\u001b[0m\u001b[0mmagic_arg_s\u001b[0m\u001b[0;34m,\u001b[0m \u001b[0mcell\u001b[0m\u001b[0;34m)\u001b[0m\u001b[0;34m\u001b[0m\u001b[0;34m\u001b[0m\u001b[0m\n\u001b[0;32m-> 2352\u001b[0;31m                 \u001b[0mresult\u001b[0m \u001b[0;34m=\u001b[0m \u001b[0mfn\u001b[0m\u001b[0;34m(\u001b[0m\u001b[0;34m*\u001b[0m\u001b[0margs\u001b[0m\u001b[0;34m,\u001b[0m \u001b[0;34m**\u001b[0m\u001b[0mkwargs\u001b[0m\u001b[0;34m)\u001b[0m\u001b[0;34m\u001b[0m\u001b[0;34m\u001b[0m\u001b[0m\n\u001b[0m\u001b[1;32m   2353\u001b[0m             \u001b[0;32mreturn\u001b[0m \u001b[0mresult\u001b[0m\u001b[0;34m\u001b[0m\u001b[0;34m\u001b[0m\u001b[0m\n\u001b[1;32m   2354\u001b[0m \u001b[0;34m\u001b[0m\u001b[0m\n",
      "\u001b[0;32m</home/apoorva/anaconda3/lib/python3.7/site-packages/decorator.py:decorator-gen-126>\u001b[0m in \u001b[0;36mcu\u001b[0;34m(self, line, cell)\u001b[0m\n",
      "\u001b[0;32m~/anaconda3/lib/python3.7/site-packages/IPython/core/magic.py\u001b[0m in \u001b[0;36m<lambda>\u001b[0;34m(f, *a, **k)\u001b[0m\n\u001b[1;32m    185\u001b[0m     \u001b[0;31m# but it's overkill for just that one bit of state.\u001b[0m\u001b[0;34m\u001b[0m\u001b[0;34m\u001b[0m\u001b[0;34m\u001b[0m\u001b[0m\n\u001b[1;32m    186\u001b[0m     \u001b[0;32mdef\u001b[0m \u001b[0mmagic_deco\u001b[0m\u001b[0;34m(\u001b[0m\u001b[0marg\u001b[0m\u001b[0;34m)\u001b[0m\u001b[0;34m:\u001b[0m\u001b[0;34m\u001b[0m\u001b[0;34m\u001b[0m\u001b[0m\n\u001b[0;32m--> 187\u001b[0;31m         \u001b[0mcall\u001b[0m \u001b[0;34m=\u001b[0m \u001b[0;32mlambda\u001b[0m \u001b[0mf\u001b[0m\u001b[0;34m,\u001b[0m \u001b[0;34m*\u001b[0m\u001b[0ma\u001b[0m\u001b[0;34m,\u001b[0m \u001b[0;34m**\u001b[0m\u001b[0mk\u001b[0m\u001b[0;34m:\u001b[0m \u001b[0mf\u001b[0m\u001b[0;34m(\u001b[0m\u001b[0;34m*\u001b[0m\u001b[0ma\u001b[0m\u001b[0;34m,\u001b[0m \u001b[0;34m**\u001b[0m\u001b[0mk\u001b[0m\u001b[0;34m)\u001b[0m\u001b[0;34m\u001b[0m\u001b[0;34m\u001b[0m\u001b[0m\n\u001b[0m\u001b[1;32m    188\u001b[0m \u001b[0;34m\u001b[0m\u001b[0m\n\u001b[1;32m    189\u001b[0m         \u001b[0;32mif\u001b[0m \u001b[0mcallable\u001b[0m\u001b[0;34m(\u001b[0m\u001b[0marg\u001b[0m\u001b[0;34m)\u001b[0m\u001b[0;34m:\u001b[0m\u001b[0;34m\u001b[0m\u001b[0;34m\u001b[0m\u001b[0m\n",
      "\u001b[0;32m~/anaconda3/lib/python3.7/site-packages/v1/v1.py\u001b[0m in \u001b[0;36mcu\u001b[0;34m(self, line, cell)\u001b[0m\n\u001b[1;32m     50\u001b[0m                 \u001b[0mf\u001b[0m\u001b[0;34m.\u001b[0m\u001b[0mwrite\u001b[0m\u001b[0;34m(\u001b[0m\u001b[0mcell\u001b[0m\u001b[0;34m)\u001b[0m\u001b[0;34m\u001b[0m\u001b[0;34m\u001b[0m\u001b[0m\n\u001b[1;32m     51\u001b[0m             \u001b[0;32mtry\u001b[0m\u001b[0;34m:\u001b[0m\u001b[0;34m\u001b[0m\u001b[0;34m\u001b[0m\u001b[0m\n\u001b[0;32m---> 52\u001b[0;31m                 \u001b[0mself\u001b[0m\u001b[0;34m.\u001b[0m\u001b[0mcompile\u001b[0m\u001b[0;34m(\u001b[0m\u001b[0mfile_path\u001b[0m\u001b[0;34m)\u001b[0m\u001b[0;34m\u001b[0m\u001b[0;34m\u001b[0m\u001b[0m\n\u001b[0m\u001b[1;32m     53\u001b[0m                 \u001b[0moutput\u001b[0m \u001b[0;34m=\u001b[0m \u001b[0mself\u001b[0m\u001b[0;34m.\u001b[0m\u001b[0mrun\u001b[0m\u001b[0;34m(\u001b[0m\u001b[0mfile_path\u001b[0m\u001b[0;34m,\u001b[0m \u001b[0mtimeit\u001b[0m\u001b[0;34m=\u001b[0m\u001b[0margs\u001b[0m\u001b[0;34m.\u001b[0m\u001b[0mtimeit\u001b[0m\u001b[0;34m)\u001b[0m\u001b[0;34m\u001b[0m\u001b[0;34m\u001b[0m\u001b[0m\n\u001b[1;32m     54\u001b[0m             \u001b[0;32mexcept\u001b[0m \u001b[0msubprocess\u001b[0m\u001b[0;34m.\u001b[0m\u001b[0mCalledProcessError\u001b[0m \u001b[0;32mas\u001b[0m \u001b[0me\u001b[0m\u001b[0;34m:\u001b[0m\u001b[0;34m\u001b[0m\u001b[0;34m\u001b[0m\u001b[0m\n",
      "\u001b[0;32m~/anaconda3/lib/python3.7/site-packages/v1/v1.py\u001b[0m in \u001b[0;36mcompile\u001b[0;34m(file_path)\u001b[0m\n\u001b[1;32m     22\u001b[0m     \u001b[0;32mdef\u001b[0m \u001b[0mcompile\u001b[0m\u001b[0;34m(\u001b[0m\u001b[0mfile_path\u001b[0m\u001b[0;34m)\u001b[0m\u001b[0;34m:\u001b[0m\u001b[0;34m\u001b[0m\u001b[0;34m\u001b[0m\u001b[0m\n\u001b[1;32m     23\u001b[0m         subprocess.check_output(\n\u001b[0;32m---> 24\u001b[0;31m             [compiler, file_path + ext, \"-o\", file_path + \".out\", '-Wno-deprecated-gpu-targets'], stderr=subprocess.STDOUT)\n\u001b[0m\u001b[1;32m     25\u001b[0m \u001b[0;34m\u001b[0m\u001b[0m\n\u001b[1;32m     26\u001b[0m     \u001b[0;32mdef\u001b[0m \u001b[0mrun\u001b[0m\u001b[0;34m(\u001b[0m\u001b[0mself\u001b[0m\u001b[0;34m,\u001b[0m \u001b[0mfile_path\u001b[0m\u001b[0;34m,\u001b[0m \u001b[0mtimeit\u001b[0m\u001b[0;34m=\u001b[0m\u001b[0;32mFalse\u001b[0m\u001b[0;34m)\u001b[0m\u001b[0;34m:\u001b[0m\u001b[0;34m\u001b[0m\u001b[0;34m\u001b[0m\u001b[0m\n",
      "\u001b[0;32m~/anaconda3/lib/python3.7/subprocess.py\u001b[0m in \u001b[0;36mcheck_output\u001b[0;34m(timeout, *popenargs, **kwargs)\u001b[0m\n\u001b[1;32m    393\u001b[0m \u001b[0;34m\u001b[0m\u001b[0m\n\u001b[1;32m    394\u001b[0m     return run(*popenargs, stdout=PIPE, timeout=timeout, check=True,\n\u001b[0;32m--> 395\u001b[0;31m                **kwargs).stdout\n\u001b[0m\u001b[1;32m    396\u001b[0m \u001b[0;34m\u001b[0m\u001b[0m\n\u001b[1;32m    397\u001b[0m \u001b[0;34m\u001b[0m\u001b[0m\n",
      "\u001b[0;32m~/anaconda3/lib/python3.7/subprocess.py\u001b[0m in \u001b[0;36mrun\u001b[0;34m(input, capture_output, timeout, check, *popenargs, **kwargs)\u001b[0m\n\u001b[1;32m    470\u001b[0m         \u001b[0mkwargs\u001b[0m\u001b[0;34m[\u001b[0m\u001b[0;34m'stderr'\u001b[0m\u001b[0;34m]\u001b[0m \u001b[0;34m=\u001b[0m \u001b[0mPIPE\u001b[0m\u001b[0;34m\u001b[0m\u001b[0;34m\u001b[0m\u001b[0m\n\u001b[1;32m    471\u001b[0m \u001b[0;34m\u001b[0m\u001b[0m\n\u001b[0;32m--> 472\u001b[0;31m     \u001b[0;32mwith\u001b[0m \u001b[0mPopen\u001b[0m\u001b[0;34m(\u001b[0m\u001b[0;34m*\u001b[0m\u001b[0mpopenargs\u001b[0m\u001b[0;34m,\u001b[0m \u001b[0;34m**\u001b[0m\u001b[0mkwargs\u001b[0m\u001b[0;34m)\u001b[0m \u001b[0;32mas\u001b[0m \u001b[0mprocess\u001b[0m\u001b[0;34m:\u001b[0m\u001b[0;34m\u001b[0m\u001b[0;34m\u001b[0m\u001b[0m\n\u001b[0m\u001b[1;32m    473\u001b[0m         \u001b[0;32mtry\u001b[0m\u001b[0;34m:\u001b[0m\u001b[0;34m\u001b[0m\u001b[0;34m\u001b[0m\u001b[0m\n\u001b[1;32m    474\u001b[0m             \u001b[0mstdout\u001b[0m\u001b[0;34m,\u001b[0m \u001b[0mstderr\u001b[0m \u001b[0;34m=\u001b[0m \u001b[0mprocess\u001b[0m\u001b[0;34m.\u001b[0m\u001b[0mcommunicate\u001b[0m\u001b[0;34m(\u001b[0m\u001b[0minput\u001b[0m\u001b[0;34m,\u001b[0m \u001b[0mtimeout\u001b[0m\u001b[0;34m=\u001b[0m\u001b[0mtimeout\u001b[0m\u001b[0;34m)\u001b[0m\u001b[0;34m\u001b[0m\u001b[0;34m\u001b[0m\u001b[0m\n",
      "\u001b[0;32m~/anaconda3/lib/python3.7/subprocess.py\u001b[0m in \u001b[0;36m__init__\u001b[0;34m(self, args, bufsize, executable, stdin, stdout, stderr, preexec_fn, close_fds, shell, cwd, env, universal_newlines, startupinfo, creationflags, restore_signals, start_new_session, pass_fds, encoding, errors, text)\u001b[0m\n\u001b[1;32m    773\u001b[0m                                 \u001b[0mc2pread\u001b[0m\u001b[0;34m,\u001b[0m \u001b[0mc2pwrite\u001b[0m\u001b[0;34m,\u001b[0m\u001b[0;34m\u001b[0m\u001b[0;34m\u001b[0m\u001b[0m\n\u001b[1;32m    774\u001b[0m                                 \u001b[0merrread\u001b[0m\u001b[0;34m,\u001b[0m \u001b[0merrwrite\u001b[0m\u001b[0;34m,\u001b[0m\u001b[0;34m\u001b[0m\u001b[0;34m\u001b[0m\u001b[0m\n\u001b[0;32m--> 775\u001b[0;31m                                 restore_signals, start_new_session)\n\u001b[0m\u001b[1;32m    776\u001b[0m         \u001b[0;32mexcept\u001b[0m\u001b[0;34m:\u001b[0m\u001b[0;34m\u001b[0m\u001b[0;34m\u001b[0m\u001b[0m\n\u001b[1;32m    777\u001b[0m             \u001b[0;31m# Cleanup if the child failed starting.\u001b[0m\u001b[0;34m\u001b[0m\u001b[0;34m\u001b[0m\u001b[0;34m\u001b[0m\u001b[0m\n",
      "\u001b[0;32m~/anaconda3/lib/python3.7/subprocess.py\u001b[0m in \u001b[0;36m_execute_child\u001b[0;34m(self, args, executable, preexec_fn, close_fds, pass_fds, cwd, env, startupinfo, creationflags, shell, p2cread, p2cwrite, c2pread, c2pwrite, errread, errwrite, restore_signals, start_new_session)\u001b[0m\n\u001b[1;32m   1520\u001b[0m                         \u001b[0;32mif\u001b[0m \u001b[0merrno_num\u001b[0m \u001b[0;34m==\u001b[0m \u001b[0merrno\u001b[0m\u001b[0;34m.\u001b[0m\u001b[0mENOENT\u001b[0m\u001b[0;34m:\u001b[0m\u001b[0;34m\u001b[0m\u001b[0;34m\u001b[0m\u001b[0m\n\u001b[1;32m   1521\u001b[0m                             \u001b[0merr_msg\u001b[0m \u001b[0;34m+=\u001b[0m \u001b[0;34m': '\u001b[0m \u001b[0;34m+\u001b[0m \u001b[0mrepr\u001b[0m\u001b[0;34m(\u001b[0m\u001b[0merr_filename\u001b[0m\u001b[0;34m)\u001b[0m\u001b[0;34m\u001b[0m\u001b[0;34m\u001b[0m\u001b[0m\n\u001b[0;32m-> 1522\u001b[0;31m                     \u001b[0;32mraise\u001b[0m \u001b[0mchild_exception_type\u001b[0m\u001b[0;34m(\u001b[0m\u001b[0merrno_num\u001b[0m\u001b[0;34m,\u001b[0m \u001b[0merr_msg\u001b[0m\u001b[0;34m,\u001b[0m \u001b[0merr_filename\u001b[0m\u001b[0;34m)\u001b[0m\u001b[0;34m\u001b[0m\u001b[0;34m\u001b[0m\u001b[0m\n\u001b[0m\u001b[1;32m   1523\u001b[0m                 \u001b[0;32mraise\u001b[0m \u001b[0mchild_exception_type\u001b[0m\u001b[0;34m(\u001b[0m\u001b[0merr_msg\u001b[0m\u001b[0;34m)\u001b[0m\u001b[0;34m\u001b[0m\u001b[0;34m\u001b[0m\u001b[0m\n\u001b[1;32m   1524\u001b[0m \u001b[0;34m\u001b[0m\u001b[0m\n",
      "\u001b[0;31mFileNotFoundError\u001b[0m: [Errno 2] No such file or directory: '/usr/local/cuda/bin/nvcc': '/usr/local/cuda/bin/nvcc'"
     ]
    }
   ],
   "source": [
    "%%cu\n",
    "\n",
    "//Assignment 1\n",
    "#include \"cuda_runtime.h\"\n",
    "#include \"device_launch_parameters.h\"\n",
    "#include<stdio.h>\n",
    "#include<stdlib.h>\n",
    "#include<time.h>\n",
    "#include<math.h>\n",
    "\n",
    "void init_array(float *a, const int N);\n",
    "__global__\n",
    "void sum(float* input)\n",
    "{\n",
    " const int tid = threadIdx.x;\n",
    " int no_threads = blockDim.x;\n",
    "\n",
    " int step_size =1;\n",
    "\n",
    " while(no_threads>0)\n",
    " {\n",
    "   if(tid<no_threads)\n",
    "   {\n",
    "      const int fst = tid*step_size*2;\n",
    "      const int snd = fst + step_size;\n",
    "      input[fst] += input[snd];\n",
    "   }\n",
    "   step_size <<=1;\n",
    "   no_threads >>= 1;\n",
    "\n",
    " }\n",
    "}\n",
    "\n",
    "__global__\n",
    "void min(float* input)\n",
    "{\n",
    " const int tid = threadIdx.x;\n",
    " int no_threads = blockDim.x;\n",
    "\n",
    " int step_size =1;\n",
    "\n",
    " while(no_threads>0)\n",
    " {\n",
    "   if(tid<no_threads)\n",
    "   {\n",
    "      const int fst = tid*step_size*2;\n",
    "      const int snd = fst + step_size;\n",
    "      if(input[snd]<input[fst])\n",
    "         input[fst]  = input[snd];\n",
    "   }\n",
    "   step_size <<=1;\n",
    "   no_threads >>= 1;\n",
    "\n",
    " }\n",
    "\n",
    "\n",
    "}\n",
    "\n",
    "__global__\n",
    "void max(float* input)\n",
    "{\n",
    " const int tid = threadIdx.x;\n",
    " int no_threads = blockDim.x;\n",
    "\n",
    " int step_size =1;\n",
    "\n",
    " while(no_threads>0)\n",
    " {\n",
    "   if(tid<no_threads)\n",
    "   {\n",
    "      const int fst = tid*step_size*2;\n",
    "      const int snd = fst + step_size;\n",
    "      if(input[snd]>input[fst])\n",
    "         input[fst]  = input[snd];\n",
    "   }\n",
    "   step_size <<=1;\n",
    "   no_threads >>= 1;\n",
    "\n",
    " }\n",
    "\n",
    "\n",
    "}\n",
    "\n",
    "\n",
    "__global__\n",
    "void std_(float* input,float avg)\n",
    "{\n",
    " const int tid = threadIdx.x;\n",
    " int no_threads = blockDim.x;\n",
    "\n",
    " int step_size =1;\n",
    "\n",
    " while(no_threads>0)\n",
    " {\n",
    "   if(tid<no_threads)\n",
    "   {\n",
    "      const int fst = tid*step_size*2;\n",
    "      const int snd = fst + step_size;\n",
    "      input[fst] = (input[fst]-avg)*(input[fst]-avg);\n",
    "      input[snd] = (input[snd]-avg)*(input[snd]-avg);\n",
    "      input[fst] += input[snd];\n",
    "   }\n",
    "   step_size <<=1;\n",
    "   no_threads >>= 1;\n",
    "\n",
    " }\n",
    "\n",
    "\n",
    "}\n",
    "\n",
    "\n",
    "int main()\n",
    "{\n",
    "\n",
    " srand(time(NULL));\n",
    " const int N = 4;\n",
    " const int size = N*sizeof(float);\n",
    " float *a;\n",
    " float *d_a,*d_b;\n",
    " float result, avg;\n",
    " double time_taken;\n",
    "    \n",
    " a = (float*)malloc(sizeof(float)*N);\n",
    " //initialising the array\n",
    " init_array(a,N);\n",
    "\n",
    " //printing the array\n",
    " for(int i=0;i<N;i++)\n",
    "   printf(\"%f   \",a[i]);\n",
    "\n",
    " cudaMalloc(&d_a,size);\n",
    " cudaMemcpy(d_a,a,size,cudaMemcpyHostToDevice);\n",
    "\n",
    " cudaMalloc(&d_b,size);\n",
    " cudaMemcpy(d_b,a,size,cudaMemcpyHostToDevice);\n",
    " \n",
    " //----------------Sum--------------------------\n",
    " clock_t t;\n",
    " t = clock();\n",
    " sum<<<1,N/2>>>(d_a);\n",
    " cudaMemcpy(&result,d_a,sizeof(float),cudaMemcpyDeviceToHost);\n",
    " t = clock() - t;\n",
    " time_taken = ((double)t)/CLOCKS_PER_SEC; //in seconds\n",
    " printf(\" Time taken by sum :%f\",time_taken);\n",
    " printf(\"   Sum:  %f\",result);\n",
    "    \n",
    " //----------------Min--------------------------\n",
    " t = clock();\n",
    " min<<<1,N/2>>>(d_a);\n",
    " cudaMemcpy(&result,d_a,sizeof(float),cudaMemcpyDeviceToHost);\n",
    " t = clock() - t;\n",
    " time_taken = ((double)t)/CLOCKS_PER_SEC; //in seconds\n",
    " printf(\" Time taken by min :%f\",time_taken);\n",
    " printf(\"   Min:  %f\",result);\n",
    "      \n",
    " //----------------Max--------------------------\n",
    " t = clock();\n",
    " max<<<1,N/2>>>(d_a); \n",
    " t = clock() - t;\n",
    " time_taken = ((double)t)/CLOCKS_PER_SEC; //in seconds\n",
    " printf(\" Time taken by max :%f\",time_taken);\n",
    " cudaMemcpy(&result,d_a,sizeof(float),cudaMemcpyDeviceToHost);\n",
    " printf(\"   Max:  %f\",result);\n",
    "    \n",
    " //----------------Average--------------------\n",
    " t = clock();\n",
    " sum<<<1,N/2>>>(d_a);\n",
    " cudaMemcpy(&result,d_a,sizeof(float),cudaMemcpyDeviceToHost);\n",
    " avg = result/N;\n",
    " t = clock() - t;\n",
    " time_taken = ((double)t)/CLOCKS_PER_SEC; //in seconds\n",
    " printf(\" Time taken by avg :%f\",time_taken);\n",
    " printf(\"   Avg:  %f\",avg);\n",
    " \n",
    "    \n",
    " //----------------Standard deviation-------------\n",
    "  t = clock();\n",
    " std_<<<1,N/2>>>(d_a,avg);\n",
    " float std;\n",
    " cudaMemcpy(&std,d_b,sizeof(float),cudaMemcpyDeviceToHost);\n",
    " std =std/N;\n",
    " std = sqrt(std);\n",
    " t = clock() - t;\n",
    " time_taken = ((double)t)/CLOCKS_PER_SEC; //in seconds\n",
    " printf(\" Time taken by std :%f\",time_taken);\n",
    " printf(\" STD IS:%f\",std);\n",
    "\n",
    " \n",
    " cudaFree(d_a);\n",
    " cudaFree(d_b);\n",
    " delete[] a;\n",
    "\n",
    " return 0;\n",
    "}\n",
    "\n",
    "\n",
    "void init_array(float*a,const int N)\n",
    "{\n",
    "  for(int i=0;i<N;i++)\n",
    "     a[i] = rand()%N + 1;\n",
    "}\n",
    "\n"
   ]
  },
  {
   "cell_type": "code",
   "execution_count": 0,
   "metadata": {
    "colab": {},
    "colab_type": "code",
    "id": "gCnDCpIlFonb"
   },
   "outputs": [],
   "source": []
  }
 ],
 "metadata": {
  "accelerator": "GPU",
  "colab": {
   "collapsed_sections": [],
   "name": "Copy of Copy of A1.ipynb",
   "provenance": [
    {
     "file_id": "1sUEHzwb4oZaC7mB6vQCUUsIWUj0QE_Cc",
     "timestamp": 1571744661467
    }
   ]
  },
  "kernelspec": {
   "display_name": "Python 3",
   "language": "python",
   "name": "python3"
  },
  "language_info": {
   "codemirror_mode": {
    "name": "ipython",
    "version": 3
   },
   "file_extension": ".py",
   "mimetype": "text/x-python",
   "name": "python",
   "nbconvert_exporter": "python",
   "pygments_lexer": "ipython3",
   "version": "3.7.3"
  }
 },
 "nbformat": 4,
 "nbformat_minor": 1
}
