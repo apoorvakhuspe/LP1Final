{
 "cells": [
  {
   "cell_type": "code",
   "execution_count": 5,
   "metadata": {},
   "outputs": [],
   "source": [
    "from nltk.chat.util import Chat,reflections"
   ]
  },
  {
   "cell_type": "code",
   "execution_count": 7,
   "metadata": {},
   "outputs": [],
   "source": [
    "pairs=[\n",
    "    [\n",
    "       r\"my name is (.*)\",\n",
    "        [\"Hello %1, How are you today?\"]\n",
    "    ],\n",
    "    [\n",
    "        r\"What is your name?\",\n",
    "        [\"My name is Chatty and I'm a chatbot\"]\n",
    "    ],\n",
    "    [\n",
    "        r\"How are you?\",\n",
    "        [\"I'm doing good.\\nHow are you?\"]\n",
    "    ],\n",
    "    [\n",
    "        r\"I'm (.*) doing good\",\n",
    "        [\"Nice to hear that\",\"Alright :)\"]\n",
    "    ],\n",
    "    [\n",
    "        r\"(.*) sorry (.*)\",\n",
    "        [\"It's alright.\",\"It's Ok, nevermind\"]\n",
    "    ],\n",
    "    [\n",
    "        r\"(.*) thank you (.*)\",\n",
    "        [\"You're welcome\"]\n",
    "    ],\n",
    "    [\n",
    "        r\"hi|hello|hey\",\n",
    "        [\"Hello\",\"Hello there\"]\n",
    "    ],\n",
    "    [\n",
    "        r\"Where(.*) invest?\",\n",
    "        [\"There are many options. Regional or investment bank?\"]\n",
    "    ],\n",
    "    [\n",
    "        r\"(.*) investment (.*)\",\n",
    "        [\"Banks such as Barclays, UBS, HSBC, Deutsche Bank\"]\n",
    "    ],\n",
    "    [\n",
    "        r\"(.*) regional (.*)\",\n",
    "        [\"Banks such as SBI, Kotak Mahindra\"]\n",
    "    ],\n",
    "    [\n",
    "        r\"Which loan (.*)\",\n",
    "        [\"Housing, Personal, Educational.\"]\n",
    "    ],\n",
    "    [\n",
    "        r\"How (.*) money (.*) invest\",\n",
    "        [\"It's good to invest 30% of income\"]\n",
    "    ],\n",
    "    [\n",
    "        r\"(.*) mutual funds?\",\n",
    "        [\"%1 is an amazing company. But I guess it is going in loss these days\"]\n",
    "    ],\n",
    "    [\n",
    "        r\"(.*) difference (.*) stock (.*) share?\",\n",
    "        [\"Stock is ... Share is ...\"]\n",
    "    ],\n",
    "    [\n",
    "        r\"(.*) bonds (.*)\",\n",
    "        [\"Bonds is issued by companies to help assist financial projects\"]\n",
    "    ],\n",
    "    [\n",
    "        r\"What if (.*) money back?\",\n",
    "        [\"You can always sell your investments or shares\"]\n",
    "    ],\n",
    "    [\n",
    "        r\"quit\",\n",
    "        [\"BBye take care. See you soon :) \",\"It was nice talking to you. See you soon :)\"]\n",
    "    ]\n",
    "]"
   ]
  },
  {
   "cell_type": "code",
   "execution_count": 8,
   "metadata": {},
   "outputs": [],
   "source": [
    "def chatty():\n",
    "    print(\"Hi, I'm chatty.\\nI'm an investment suggestion chatbot. Type quit to leave\")\n",
    "    chat=Chat(pairs,reflections)\n",
    "    chat.converse()  #converse(self, quit='quit')"
   ]
  },
  {
   "cell_type": "code",
   "execution_count": 9,
   "metadata": {},
   "outputs": [
    {
     "name": "stdout",
     "output_type": "stream",
     "text": [
      "Hi, I'm chatty.\n",
      "I'm an investment suggestion chatbot. Type quit to leave\n",
      ">hi\n",
      "Hello\n",
      ">quit\n",
      "It was nice talking to you. See you soon :)\n"
     ]
    }
   ],
   "source": [
    "chatty()"
   ]
  },
  {
   "cell_type": "code",
   "execution_count": null,
   "metadata": {},
   "outputs": [],
   "source": []
  }
 ],
 "metadata": {
  "kernelspec": {
   "display_name": "Python 3",
   "language": "python",
   "name": "python3"
  },
  "language_info": {
   "codemirror_mode": {
    "name": "ipython",
    "version": 3
   },
   "file_extension": ".py",
   "mimetype": "text/x-python",
   "name": "python",
   "nbconvert_exporter": "python",
   "pygments_lexer": "ipython3",
   "version": "3.7.3"
  }
 },
 "nbformat": 4,
 "nbformat_minor": 2
}
